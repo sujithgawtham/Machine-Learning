{
 "cells": [
  {
   "cell_type": "code",
   "execution_count": 7,
   "metadata": {},
   "outputs": [
    {
     "name": "stderr",
     "output_type": "stream",
     "text": [
      "/Library/Frameworks/Python.framework/Versions/3.12/lib/python3.12/site-packages/sklearn/base.py:1473: DataConversionWarning: A column-vector y was passed when a 1d array was expected. Please change the shape of y to (n_samples,), for example using ravel().\n",
      "  return fit_method(estimator, *args, **kwargs)\n",
      "/Library/Frameworks/Python.framework/Versions/3.12/lib/python3.12/site-packages/sklearn/base.py:493: UserWarning: X does not have valid feature names, but RandomForestRegressor was fitted with feature names\n",
      "  warnings.warn(\n"
     ]
    },
    {
     "data": {
      "text/plain": [
       "array([48077.0014])"
      ]
     },
     "execution_count": 7,
     "metadata": {},
     "output_type": "execute_result"
    }
   ],
   "source": [
    "import pandas as pd # type: ignore\n",
    "import pickle\n",
    "from sklearn.model_selection import train_test_split \n",
    "from sklearn.metrics import r2_score\n",
    "from sklearn.ensemble import RandomForestRegressor\n",
    "\n",
    "dataset = pd.read_csv(\"50_Startups.csv\")\n",
    "\n",
    "dataset = pd.get_dummies(dataset, drop_first= True)\n",
    "dataset.columns\n",
    "\n",
    "independent = dataset[['R&D Spend', 'Administration', 'Marketing Spend',\n",
    "       'State_Florida', 'State_New York']]\n",
    "independent\n",
    "\n",
    "dependent = dataset[['Profit']]\n",
    "dependent\n",
    "\n",
    "x_train, x_test, y_train, y_test = train_test_split (independent, dependent, test_size= 0.30, random_state=0)\n",
    "\n",
    "regressor = RandomForestRegressor(n_estimators = 50 , random_state = 0)\n",
    "regressor = regressor.fit(x_train, y_train)\n",
    "\n",
    "y_pred = regressor.predict(x_test)\n",
    "r_score = r2_score(y_test, y_pred)\n",
    "r_score\n",
    "\n",
    "fileName = \"Finalised_Model_Forest.sav\"\n",
    "pickle.dump(regressor,open(fileName , 'wb'))\n",
    "\n",
    "loaded_model = pickle.load(open(\"Finalised_Model_Forest.sav\" , 'rb'))\n",
    "result = loaded_model.predict([[1234,332,8799,1,0]])\n",
    "result\n"
   ]
  }
 ],
 "metadata": {
  "kernelspec": {
   "display_name": "Python 3",
   "language": "python",
   "name": "python3"
  },
  "language_info": {
   "codemirror_mode": {
    "name": "ipython",
    "version": 3
   },
   "file_extension": ".py",
   "mimetype": "text/x-python",
   "name": "python",
   "nbconvert_exporter": "python",
   "pygments_lexer": "ipython3",
   "version": "3.12.6"
  }
 },
 "nbformat": 4,
 "nbformat_minor": 2
}
